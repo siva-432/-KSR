{
  "nbformat": 4,
  "nbformat_minor": 0,
  "metadata": {
    "colab": {
      "name": "Python_practice.ipynb",
      "provenance": [],
      "authorship_tag": "ABX9TyPRpnMp3ZJAFDORDayYhwwQ",
      "include_colab_link": true
    },
    "kernelspec": {
      "name": "python3",
      "display_name": "Python 3"
    },
    "language_info": {
      "name": "python"
    }
  },
  "cells": [
    {
      "cell_type": "markdown",
      "metadata": {
        "id": "view-in-github",
        "colab_type": "text"
      },
      "source": [
        "<a href=\"https://colab.research.google.com/github/siva-432/-KSR/blob/master/Python_practice.ipynb\" target=\"_parent\"><img src=\"https://colab.research.google.com/assets/colab-badge.svg\" alt=\"Open In Colab\"/></a>"
      ]
    },
    {
      "cell_type": "code",
      "metadata": {
        "colab": {
          "base_uri": "https://localhost:8080/"
        },
        "id": "Ohutrp0xmZ2U",
        "outputId": "af0b97d6-f5ab-4d05-b342-8f156742de87"
      },
      "source": [
        "# how to count an item occurences\n",
        "shop = \"amazon\"\n",
        "occu = {}\n",
        "for i in shop:\n",
        "  if i in occu:\n",
        "    occu[i] +=1 \n",
        "  else:\n",
        "    occu[i] = 1\n",
        "occu\n",
        "for key,val in occu.items():\n",
        "  print(\"%s:%d\"%(key,val))"
      ],
      "execution_count": null,
      "outputs": [
        {
          "output_type": "stream",
          "text": [
            "a:2\n",
            "m:1\n",
            "z:1\n",
            "o:1\n",
            "n:1\n"
          ],
          "name": "stdout"
        }
      ]
    }
  ]
}